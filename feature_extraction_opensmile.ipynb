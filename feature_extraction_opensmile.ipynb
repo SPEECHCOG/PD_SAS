{
 "cells": [
  {
   "cell_type": "markdown",
   "metadata": {},
   "source": [
    "This is program is to extract opensmile features, which are used for comparison with speech attribute scores and fbank_pitch features. There are two approachs:\n",
    "- Approach-1:​\n",
    "\n",
    "- - Compute 25-dim LLD features of eGeMAPS and corresponding 1st and 2nd order of dynamic features for each frame (width=25ms, shift=10ms)​\n",
    "\n",
    "- - Each 1 s segment is represented by a 100X75 feature matrix​\n"
   ]
  },
  {
   "cell_type": "code",
   "execution_count": null,
   "metadata": {},
   "outputs": [],
   "source": [
    "import opensmile\n",
    "import audiofile\n",
    "import os\n",
    "import numpy as np\n",
    "import pandas as pd\n",
    "from glob import glob"
   ]
  },
  {
   "cell_type": "code",
   "execution_count": null,
   "metadata": {
    "scrolled": true
   },
   "outputs": [],
   "source": [
    "# parameters definition\n",
    "# task = 'PC-GITA_vowel'\n",
    "# task = 'PC-GITA_read'\n",
    "task = 'PC-GITA_spon'\n",
    "# task = 'PDSTU_vowel'\n",
    "# task = 'PDSTU_read'\n",
    "# task = 'PDSTU_spon'\n",
    "filepath_audio = os.path.join('/home/yuanyuan/Documents/MULAN-ACCENT/data/', task)\n",
    "filepath_res = os.path.join('/home/yuanyuan/Documents/MULAN-ACCENT/opensmile/', task)\n",
    "if os.path.exists(filepath_res) == False:\n",
    "    os.makedirs(filepath_res)\n",
    "segment_length = 1 # 100 frames, 1 s\n",
    "segment_shift =  0.2 # frames, 0.2 s\n",
    "frame_length = 0.025 # 25 ms\n",
    "frame_shift = 0.010 # 10 ms\n",
    "\n",
    "smile_lld = opensmile.Smile(\n",
    "    feature_set = opensmile.FeatureSet.eGeMAPSv02,\n",
    "    feature_level = opensmile.FeatureLevel.LowLevelDescriptors,\n",
    ")    \n",
    "smile_lld.feature_names, len(smile_lld.feature_names)"
   ]
  },
  {
   "cell_type": "code",
   "execution_count": null,
   "metadata": {
    "scrolled": false
   },
   "outputs": [],
   "source": [
    "import opensmile\n",
    "print(opensmile.__version__)\n",
    "print(opensmile.__file__)"
   ]
  },
  {
   "cell_type": "code",
   "execution_count": null,
   "metadata": {},
   "outputs": [],
   "source": [
    "# to compute frame-level lld features and functionals for each 1 s segments for given audio file.\n",
    "def feature_extraction(file, smile_lld, smile_func, frame_shift, segment_length, segment_shift, filepath_res):\n",
    "    audio_name = os.path.basename(file)\n",
    "    audio_name = audio_name[0:audio_name.index('.wav')]\n",
    "    if task in audio_name == False:\n",
    "        audio_name = audio_name + '_' + task\n",
    "    audio, sampling_rate = audiofile.read(file)\n",
    "    delete_flag = 0\n",
    "    if audio.shape[0] >= sampling_rate:    \n",
    "        df_feats_lld = smile_lld.process_signal(audio, sampling_rate)\n",
    "        start_lld = list(df_feats_lld.index)\n",
    "        if start_lld[-1][0] == start_lld[-2][0]:\n",
    "            cut_lastrow = 1\n",
    "            df_feats_lld = df_feats_lld[:-1]\n",
    "#             print('cut the last row: lld')\n",
    "        else:\n",
    "            cut_lastrow = 0\n",
    "        frameid_lld = [int(np.around(start_lld[i][0].total_seconds()/frame_shift)) for i in range(len(start_lld)-cut_lastrow)]\n",
    "    #     if frameid_lld[-1] == frameid_lld[-2]:\n",
    "    #         frameid_lld = frameid_lld[0:-1]\n",
    "    #         \n",
    "        if len(frameid_lld) != len(np.unique(frameid_lld)):\n",
    "            print('lld index generation error for {}'.format(audio_name))\n",
    "        df_feats_lld.index = frameid_lld\n",
    "        df_feats_lld.to_excel(os.path.join(filepath_res, audio_name+'_lld.xlsx'))\n",
    "    else:\n",
    "        print('delete {}, shorter than 1 s.'.format(audio_name))\n",
    "        delete_flag = 1\n",
    "    return delete_flag"
   ]
  },
  {
   "cell_type": "code",
   "execution_count": null,
   "metadata": {},
   "outputs": [],
   "source": [
    "# run feature_extraction for a bunch of audios of given task.\n",
    "files = glob(os.path.join(filepath_audio, '*.wav'))\n",
    "delete_wavs = 0\n",
    "print(filepath_res)\n",
    "for file in files:\n",
    "    delete_flag = feature_extraction(file, smile_lld, smile_func, frame_shift, segment_length, segment_shift, filepath_res)\n",
    "    delete_wavs = delete_wavs + delete_flag\n",
    "print('original {} wavs, deleted {} wavs'.format(len(files), delete_wavs))"
   ]
  },
  {
   "cell_type": "code",
   "execution_count": null,
   "metadata": {},
   "outputs": [],
   "source": []
  }
 ],
 "metadata": {
  "kernelspec": {
   "display_name": "Python 3",
   "language": "python",
   "name": "python3"
  },
  "language_info": {
   "codemirror_mode": {
    "name": "ipython",
    "version": 3
   },
   "file_extension": ".py",
   "mimetype": "text/x-python",
   "name": "python",
   "nbconvert_exporter": "python",
   "pygments_lexer": "ipython3",
   "version": "3.7.7"
  }
 },
 "nbformat": 4,
 "nbformat_minor": 4
}
